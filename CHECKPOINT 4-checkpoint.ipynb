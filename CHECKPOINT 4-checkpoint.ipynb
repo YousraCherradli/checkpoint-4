{
 "cells": [
  {
   "cell_type": "code",
   "execution_count": 1,
   "id": "be292ae5",
   "metadata": {},
   "outputs": [
    {
     "name": "stdout",
     "output_type": "stream",
     "text": [
      "Type a value of the number a 34\n",
      "Type a value of the number b 35\n",
      "Type a value of the number c 36\n",
      "Le maximum des trois nombre est : max(a,b,c) =  36\n"
     ]
    }
   ],
   "source": [
    "a = int(input(\"Type a value of the number a \"))\n",
    "b = int(input(\"Type a value of the number b \"))\n",
    "c = int(input(\"Type a value of the number c \"))\n",
    "\n",
    "# définir et initialiser le maximum à zero\n",
    "max = 0\n",
    "if(a > b):\n",
    "    max = a\n",
    "else:\n",
    "    max = b\n",
    "if(max < c):\n",
    "    max = c\n",
    "else:\n",
    "    max = max\n",
    "print(\"Le maximum des trois nombre est : max(a,b,c) = \", max)"
   ]
  },
  {
   "cell_type": "code",
   "execution_count": 2,
   "id": "232cbbc9",
   "metadata": {},
   "outputs": [
    {
     "name": "stdout",
     "output_type": "stream",
     "text": [
      "valeur3 \n"
     ]
    }
   ],
   "source": [
    "def longest_word(dictionnaire):\n",
    "    longest = \"\"\n",
    "    for value in dictionnaire.values():\n",
    "        if len(value) > len(longest):\n",
    "            longest = value\n",
    "    return longest\n",
    "\n",
    "\n",
    "mon_dictionnaire = {\"cle1\": \"valeur1\", \"cle2\": \"valeur2\", \"cle3\": \"valeur3 \"}\n",
    "print(longest_word(mon_dictionnaire)) \n"
   ]
  },
  {
   "cell_type": "code",
   "execution_count": 3,
   "id": "ec24f237",
   "metadata": {},
   "outputs": [
    {
     "name": "stdout",
     "output_type": "stream",
     "text": [
      "Entrez une séquence de valeurs de D séparées par des virgules: 100,150,180\n",
      "18,22,24\n"
     ]
    }
   ],
   "source": [
    "import math\n",
    "\n",
    "def calculate_Q(D):\n",
    "    C = 50\n",
    "    H = 30\n",
    "    Q = []\n",
    "    for i in D:\n",
    "        Q.append(str(int(math.sqrt((2 * C * int(i))/H))))\n",
    "    return \",\".join(Q)\n",
    "\n",
    "# Utilisation de la fonction\n",
    "D = input(\"Entrez une séquence de valeurs de D séparées par des virgules: \")\n",
    "D = D.split(',')\n",
    "print(calculate_Q(D)) # Affiche \"18,22,24\"\n"
   ]
  },
  {
   "cell_type": "code",
   "execution_count": 4,
   "id": "24530360",
   "metadata": {},
   "outputs": [
    {
     "name": "stdout",
     "output_type": "stream",
     "text": [
      "Entrez deux valeurs séparées par des virgules: 40, 10\n",
      "Addition:  50\n",
      "Soustraction:  30\n"
     ]
    }
   ],
   "source": [
    "def calcul(a, b):\n",
    "    addition = a + b\n",
    "    soustraction = a - b\n",
    "    return addition, soustraction\n",
    "\n",
    "# Utilisation de la fonction\n",
    "x, y = input(\"Entrez deux valeurs séparées par des virgules: \").split(',')\n",
    "resultats = calcul(int(x), int(y))\n",
    "print(\"Addition: \", resultats[0])\n",
    "print(\"Soustraction: \", resultats[1])\n"
   ]
  },
  {
   "cell_type": "code",
   "execution_count": null,
   "id": "1870c82c",
   "metadata": {},
   "outputs": [],
   "source": []
  }
 ],
 "metadata": {
  "kernelspec": {
   "display_name": "Python 3 (ipykernel)",
   "language": "python",
   "name": "python3"
  },
  "language_info": {
   "codemirror_mode": {
    "name": "ipython",
    "version": 3
   },
   "file_extension": ".py",
   "mimetype": "text/x-python",
   "name": "python",
   "nbconvert_exporter": "python",
   "pygments_lexer": "ipython3",
   "version": "3.9.13"
  }
 },
 "nbformat": 4,
 "nbformat_minor": 5
}
